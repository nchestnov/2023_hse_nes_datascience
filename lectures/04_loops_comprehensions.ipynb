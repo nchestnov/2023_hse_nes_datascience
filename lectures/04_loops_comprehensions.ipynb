{
  "nbformat": 4,
  "nbformat_minor": 0,
  "metadata": {
    "colab": {
      "provenance": []
    },
    "kernelspec": {
      "name": "python3",
      "display_name": "Python 3"
    }
  },
  "cells": [
    {
      "cell_type": "markdown",
      "metadata": {
        "pycharm": {
          "name": "#%% md\n"
        },
        "id": "P_bpT_NzquBB"
      },
      "source": [
        "# Наука о данных\n",
        "\n",
        "\n",
        "<img src=\"https://www.python.org/static/community_logos/python-logo-master-v3-TM.png\" align=\"right\" style=\"height: 200px;\"/>"
      ]
    },
    {
      "cell_type": "markdown",
      "metadata": {
        "id": "e53GY3al7d-i"
      },
      "source": [
        "# Занятие 4. Циклы for и while"
      ]
    },
    {
      "cell_type": "markdown",
      "source": [
        "# Циклы"
      ],
      "metadata": {
        "id": "G7lV7CBKNL2j"
      }
    },
    {
      "cell_type": "markdown",
      "source": [
        "Циклы в программирования позволяют выполнить набор команд некоторое (часто заранее неопределенное) количество раз.\n",
        "\n",
        "В Python для этого есть два типа циклов."
      ],
      "metadata": {
        "id": "hMbIX2Z3JEFk"
      }
    },
    {
      "cell_type": "markdown",
      "source": [
        "## Цикл `while`"
      ],
      "metadata": {
        "id": "tEo3rIoAQfYx"
      }
    },
    {
      "cell_type": "markdown",
      "source": [
        "Часто необходимо продолжать выполнять какие-либо действия до тех пор, пока условие верно. Для этого пригождается циклы `while`. Его синтаксис выглядит следующим образом:\n",
        "\n",
        "```python\n",
        "while condition:\n",
        "    do_something()\n",
        "```"
      ],
      "metadata": {
        "id": "HjlUaKbSQiS3"
      }
    },
    {
      "cell_type": "markdown",
      "source": [
        "Простыми словами, цикл `while` работает по принципу:\n",
        "\n",
        ">Пока что-то истинно `while condition:`, выполняй набор команд (`do_something()`)"
      ],
      "metadata": {
        "id": "8GEZUbOjtnS7"
      }
    },
    {
      "cell_type": "code",
      "source": [
        "greetings = 0\n",
        "\n",
        "while greetings < 3:\n",
        "    print(greetings, 'Hello!')\n",
        "    greetings = greetings + 1"
      ],
      "metadata": {
        "colab": {
          "base_uri": "https://localhost:8080/"
        },
        "id": "32yvOvdbRAoC",
        "outputId": "f4267d77-d3a8-4f04-88b1-802bdc38d907"
      },
      "execution_count": null,
      "outputs": [
        {
          "output_type": "stream",
          "name": "stdout",
          "text": [
            "0 Hello!\n",
            "1 Hello!\n",
            "2 Hello!\n"
          ]
        }
      ]
    },
    {
      "cell_type": "markdown",
      "source": [
        "### Оператор `break`"
      ],
      "metadata": {
        "id": "uyHVKhjAHRjN"
      }
    },
    {
      "cell_type": "markdown",
      "source": [
        "Можем прервать выполнение цикла (даже до того, пока условие перестанет выполняться) с помощью оператора `break`:"
      ],
      "metadata": {
        "id": "6t0pgwfQRFEs"
      }
    },
    {
      "cell_type": "code",
      "source": [
        "i = 0\n",
        "summ = 0\n",
        "\n",
        "# Сумма первых 100 чисел\n",
        "while True:\n",
        "    i += 1\n",
        "    summ += i\n",
        "    if not i < 100: break\n",
        "\n",
        "print(summ)"
      ],
      "metadata": {
        "colab": {
          "base_uri": "https://localhost:8080/"
        },
        "id": "snCRuqExRaPW",
        "outputId": "6a70cff5-a6fd-4135-a071-b9f1011c83af"
      },
      "execution_count": null,
      "outputs": [
        {
          "output_type": "stream",
          "name": "stdout",
          "text": [
            "5050\n"
          ]
        }
      ]
    },
    {
      "cell_type": "code",
      "source": [
        "help(sum)"
      ],
      "metadata": {
        "colab": {
          "base_uri": "https://localhost:8080/"
        },
        "id": "zwSKZoqlUn2A",
        "outputId": "2984bac0-b24f-45ac-b074-d147a7da4e6d"
      },
      "execution_count": null,
      "outputs": [
        {
          "output_type": "stream",
          "name": "stdout",
          "text": [
            "Help on built-in function sum in module builtins:\n",
            "\n",
            "sum(iterable, start=0, /)\n",
            "    Return the sum of a 'start' value (default: 0) plus an iterable of numbers\n",
            "    \n",
            "    When the iterable is empty, return the start value.\n",
            "    This function is intended specifically for use with numeric values and may\n",
            "    reject non-numeric types.\n",
            "\n"
          ]
        }
      ]
    },
    {
      "cell_type": "markdown",
      "source": [
        "**Замечания:**\n",
        "1. хотелось бы назвать переменную для суммы как `sum`, но это имя стандартной функции, технически можно переопределить `sum` как переменную, но так крайне не рекомендуется делать\n",
        "2. можно написать условие и действие на одной строке, если оно одно - это допустимо стилистически"
      ],
      "metadata": {
        "id": "_Cp8ozmuR1fp"
      }
    },
    {
      "cell_type": "markdown",
      "source": [
        "### Оператор `continue`"
      ],
      "metadata": {
        "id": "BjX7NWEHHMYO"
      }
    },
    {
      "cell_type": "markdown",
      "source": [
        "В некоторых случаях необходимо форсированно перейти к следующей итерации цикла. Например, не все элементы нам необходимо обрабатывать, а лишь те, что подходят по критерию."
      ],
      "metadata": {
        "id": "PxN2kxGV_mG7"
      }
    },
    {
      "cell_type": "markdown",
      "source": [
        "Для форсированного перехода к следующей итерации цикла используется оператор `continue`:"
      ],
      "metadata": {
        "id": "IJt1D9feSMXX"
      }
    },
    {
      "cell_type": "code",
      "source": [
        "i = 0\n",
        "k = 5\n",
        "\n",
        "summ = 0  # Сумма первых 100 чисел не кратных k  \n",
        "\n",
        "while i < 100:\n",
        "    i += 1\n",
        "    if not i % k: continue  # not i % k эквивалентно i % k == 0\n",
        "    \n",
        "    summ += i\n",
        "\n",
        "print(summ)"
      ],
      "metadata": {
        "colab": {
          "base_uri": "https://localhost:8080/"
        },
        "id": "iB-m7Of6SPPb",
        "outputId": "6d1faab0-a0fe-4237-e05c-d8169de901c7"
      },
      "execution_count": null,
      "outputs": [
        {
          "output_type": "stream",
          "name": "stdout",
          "text": [
            "4000\n"
          ]
        }
      ]
    },
    {
      "cell_type": "markdown",
      "source": [
        "Можно ли обойтись без `continue`? Да, можно использовать `if-else`:"
      ],
      "metadata": {
        "id": "_i5Jbxq4GzdA"
      }
    },
    {
      "cell_type": "code",
      "source": [
        "i = 0\n",
        "k = 5\n",
        "\n",
        "summ = 0  # Сумма первых 100 чисел не кратных k  \n",
        "\n",
        "while i < 100:\n",
        "    i += 1\n",
        "    if i % k:\n",
        "        summ += i\n",
        "\n",
        "print(summ)"
      ],
      "metadata": {
        "colab": {
          "base_uri": "https://localhost:8080/"
        },
        "id": "PCX3UxpbG5L4",
        "outputId": "26100541-ccb7-4231-c6bb-3d9582ef893d"
      },
      "execution_count": null,
      "outputs": [
        {
          "output_type": "stream",
          "name": "stdout",
          "text": [
            "4000\n"
          ]
        }
      ]
    },
    {
      "cell_type": "markdown",
      "source": [
        "Однако, если условий перехода к следующей итерации несколько, то количество таких `else` и отступов, связанных с ними, увеличивается - читаемость кода ухудшается."
      ],
      "metadata": {
        "id": "VYXY1R02G-b9"
      }
    },
    {
      "cell_type": "markdown",
      "source": [
        "### Конструкция `while-else`"
      ],
      "metadata": {
        "id": "G9yHdSr0HVdA"
      }
    },
    {
      "cell_type": "markdown",
      "source": [
        "В Python имеется конструкция `while-else`, которая проверяет был ли выход из цикла с помощью `break`:"
      ],
      "metadata": {
        "id": "Ks66T0kFSX4g"
      }
    },
    {
      "cell_type": "code",
      "source": [
        "numbers = [1, 3, 7, 5, 10, 6]\n",
        "i = 0\n",
        "\n",
        "while i < len(numbers):\n",
        "    if numbers[i] == 5:\n",
        "        print('Нашли пятёрку')\n",
        "        break\n",
        "    i += 1\n",
        "else: # если break не сработал \n",
        "    print('Не нашли пятёрку')"
      ],
      "metadata": {
        "colab": {
          "base_uri": "https://localhost:8080/"
        },
        "id": "iBDAzu0PSZT0",
        "outputId": "4a7bd4f0-e043-47a2-f683-adf2b9a3b31d"
      },
      "execution_count": null,
      "outputs": [
        {
          "output_type": "stream",
          "name": "stdout",
          "text": [
            "Нашли пятёрку\n"
          ]
        }
      ]
    },
    {
      "cell_type": "markdown",
      "source": [
        ">**Примечания**\n",
        ">- `while-else` - редко используемая конструкция (почти наверняка не встретите в большинстве кода)\n",
        ">- не очень удачное именование - `else` означает \"другое\", так почему же выполняется если цикл отработал корректно?! Прична - исторически сложилось + синтаксис GOTO других языков\n",
        ">- на практике - советуют добавлять коммент, напоминающий читателю что означает этот `else` после `while`\n",
        ">- единственное практически реальное применение - замена \"флага\""
      ],
      "metadata": {
        "id": "9JoR9-ZfH9b2"
      }
    },
    {
      "cell_type": "code",
      "source": [
        "numbers = [1, 3, 7, 8, 10, 6]\n",
        "i = 0\n",
        "\n",
        "flag = False\n",
        "while i < len(numbers):\n",
        "    if numbers[i] == 5:\n",
        "        print('Нашли пятёрку')\n",
        "        flag = True\n",
        "        break\n",
        "    i += 1\n",
        "if not flag:\n",
        "    print('Не нашли пятёрку')"
      ],
      "metadata": {
        "id": "MvLrZ3kaKGm9"
      },
      "execution_count": null,
      "outputs": []
    },
    {
      "cell_type": "markdown",
      "source": [
        "## Цикл `for`"
      ],
      "metadata": {
        "id": "Yoiwt0_8Sjii"
      }
    },
    {
      "cell_type": "markdown",
      "source": [
        "В Python `for`-цикл устроен следующим образом:\n",
        "\n",
        "```python\n",
        "for variable in iterable_var:\n",
        "    commands(varible)\n",
        "```"
      ],
      "metadata": {
        "id": "1ggIOjGESoZ5"
      }
    },
    {
      "cell_type": "markdown",
      "source": [
        "где `iterable_var` - переменная, которая может выдавать какие-либо значения. Чаще всего, это контейнеры, для каждого из элементов которого мы выполняем одинаковый набор команд, описанный в цикле."
      ],
      "metadata": {
        "id": "g3BzLVwSuWYF"
      }
    },
    {
      "cell_type": "markdown",
      "source": [
        "##### **Примечания для смешариков - класс `Iterable`**"
      ],
      "metadata": {
        "id": "j7Qui5eaunv8"
      }
    },
    {
      "cell_type": "markdown",
      "source": [
        "Технически, в качестве `iterable_var` можно брать любой объект, который является `iterable`, т.е. у которых определен мето `__next__`, с помощью которого можно запросить следующий их элемент.\n",
        "\n",
        "Среди `iterable`-объектов выделяют **последовательности** (sequences), которые помимо получения следующего элемента могут выдавать элементы и по индексу.\n",
        "\n",
        "**Примеры последовательностей:** \n",
        "- списки\n",
        "- кортежи\n",
        "- строки\n",
        "\n",
        "**Примеры не-последовательностей:**\n",
        "- множества\n",
        "- словари\n",
        "- *генераторы*"
      ],
      "metadata": {
        "id": "WUzQwoc2uUEM"
      }
    },
    {
      "cell_type": "markdown",
      "source": [
        "### Применение `for`-циклов с контейнерами"
      ],
      "metadata": {
        "id": "yxYvPNAOvCkw"
      }
    },
    {
      "cell_type": "markdown",
      "source": [
        "Примеры `for`-циклов по спискам, кортежам, строкам:"
      ],
      "metadata": {
        "id": "u3at3SJuUbwG"
      }
    },
    {
      "cell_type": "code",
      "source": [
        "list_example = ['list', 1, 2, 3, 4, 5]\n",
        "\n",
        "for item in list_example:  # одно из принятых имен для переменных цикла - item, элемент\n",
        "    print(item, end=' ')"
      ],
      "metadata": {
        "colab": {
          "base_uri": "https://localhost:8080/"
        },
        "id": "lIuUCCvUUfRx",
        "outputId": "5c322f48-8d6a-40f0-d73f-b365c350633a"
      },
      "execution_count": null,
      "outputs": [
        {
          "output_type": "stream",
          "name": "stdout",
          "text": [
            "list 1 2 3 4 5 "
          ]
        }
      ]
    },
    {
      "cell_type": "code",
      "source": [
        "tuple_example = ('tuple', 1, 2, 3, 4, 5)\n",
        "for item in tuple_example:\n",
        "    print(item, end=' ')"
      ],
      "metadata": {
        "colab": {
          "base_uri": "https://localhost:8080/"
        },
        "id": "f4B_4WVZNjNM",
        "outputId": "13f68350-98da-4986-bee4-4a3e3980bd8a"
      },
      "execution_count": null,
      "outputs": [
        {
          "output_type": "stream",
          "name": "stdout",
          "text": [
            "tuple 1 2 3 4 5 "
          ]
        }
      ]
    },
    {
      "cell_type": "code",
      "source": [
        "string_example = \"string12345\"\n",
        "\n",
        "for item in string_example:\n",
        "    print(item, end=' ')"
      ],
      "metadata": {
        "colab": {
          "base_uri": "https://localhost:8080/"
        },
        "id": "J9vjUtzcNlaB",
        "outputId": "2b9ec999-b927-44b7-e2ee-d9a29f1d16d7"
      },
      "execution_count": null,
      "outputs": [
        {
          "output_type": "stream",
          "name": "stdout",
          "text": [
            "s t r i n g 1 2 3 4 5 "
          ]
        }
      ]
    },
    {
      "cell_type": "markdown",
      "source": [
        "Примеры `for`-циклов по множествам, словарям:"
      ],
      "metadata": {
        "id": "NRFQESX5UmAw"
      }
    },
    {
      "cell_type": "code",
      "source": [
        "set_example = {'set', 1, 2, 3, 4, 5}\n",
        "\n",
        "for item in set_example:\n",
        "    print(item, end=' ')"
      ],
      "metadata": {
        "colab": {
          "base_uri": "https://localhost:8080/"
        },
        "id": "_sRc09bEUmbQ",
        "outputId": "c13ca977-d76c-4874-88c5-8b89887eac02"
      },
      "execution_count": null,
      "outputs": [
        {
          "output_type": "stream",
          "name": "stdout",
          "text": [
            "1 2 3 4 5 set "
          ]
        }
      ]
    },
    {
      "cell_type": "markdown",
      "source": [
        "Хотя мы и не можем обратиться к конкретному элементу множества по индексу, мы можем пройтись по всем элементам множества с помощью цикла `for`:"
      ],
      "metadata": {
        "id": "rPyRSheRvcFr"
      }
    },
    {
      "cell_type": "code",
      "source": [
        "set_example[0]"
      ],
      "metadata": {
        "colab": {
          "base_uri": "https://localhost:8080/",
          "height": 168
        },
        "id": "GvgkGKPWYBqJ",
        "outputId": "7c2e0c22-773f-4e22-8363-4c1c5ce72bc0"
      },
      "execution_count": null,
      "outputs": [
        {
          "output_type": "error",
          "ename": "TypeError",
          "evalue": "ignored",
          "traceback": [
            "\u001b[0;31m---------------------------------------------------------------------------\u001b[0m",
            "\u001b[0;31mTypeError\u001b[0m                                 Traceback (most recent call last)",
            "\u001b[0;32m<ipython-input-12-195ff0a1876b>\u001b[0m in \u001b[0;36m<module>\u001b[0;34m\u001b[0m\n\u001b[0;32m----> 1\u001b[0;31m \u001b[0mset_example\u001b[0m\u001b[0;34m[\u001b[0m\u001b[0;36m0\u001b[0m\u001b[0;34m]\u001b[0m\u001b[0;34m\u001b[0m\u001b[0;34m\u001b[0m\u001b[0m\n\u001b[0m",
            "\u001b[0;31mTypeError\u001b[0m: 'set' object is not subscriptable"
          ]
        }
      ]
    },
    {
      "cell_type": "markdown",
      "source": [
        "Аналогично при работе со словарями. Но в случае словарей мы можем пробегаться циклом как по ключам, так и по значениям и даже сразу по парам *ключ-значение*:"
      ],
      "metadata": {
        "id": "v4oaURG8vy4b"
      }
    },
    {
      "cell_type": "code",
      "source": [
        "dict_example = {'dict': \"value0\", 1: \"value1\", 2: \"value2\", 3: \"value3\", 4: \"value4\", 5: \"value5\"}"
      ],
      "metadata": {
        "id": "qWuut0y0wCiW"
      },
      "execution_count": null,
      "outputs": []
    },
    {
      "cell_type": "code",
      "source": [
        "for item in dict_example.keys():\n",
        "    print(item, end=' ')"
      ],
      "metadata": {
        "colab": {
          "base_uri": "https://localhost:8080/"
        },
        "id": "9fmzNNlKNstF",
        "outputId": "5a5bda6e-4085-42f4-c00b-dd2729039077"
      },
      "execution_count": null,
      "outputs": [
        {
          "output_type": "stream",
          "name": "stdout",
          "text": [
            "dict 1 2 3 4 5 "
          ]
        }
      ]
    },
    {
      "cell_type": "code",
      "source": [
        "for item in dict_example.values():\n",
        "    print(item, end=' ')"
      ],
      "metadata": {
        "colab": {
          "base_uri": "https://localhost:8080/"
        },
        "outputId": "62df8182-c43b-4df0-8b3d-6de6f0574304",
        "id": "ZLVk7qWUvu1H"
      },
      "execution_count": null,
      "outputs": [
        {
          "output_type": "stream",
          "name": "stdout",
          "text": [
            "value0 value1 value2 value3 value4 value5 "
          ]
        }
      ]
    },
    {
      "cell_type": "code",
      "source": [
        "for item in dict_example.items():\n",
        "    print(item, end=' ')"
      ],
      "metadata": {
        "colab": {
          "base_uri": "https://localhost:8080/"
        },
        "outputId": "9b2b99d1-add1-40a5-8c61-b4d2dfb5d186",
        "id": "L5KT2BCDvu7i"
      },
      "execution_count": null,
      "outputs": [
        {
          "output_type": "stream",
          "name": "stdout",
          "text": [
            "('dict', 'value0') (1, 'value1') (2, 'value2') (3, 'value3') (4, 'value4') (5, 'value5') "
          ]
        }
      ]
    },
    {
      "cell_type": "code",
      "source": [
        "for item in dict_example:\n",
        "    print(item, end=' ')"
      ],
      "metadata": {
        "colab": {
          "base_uri": "https://localhost:8080/"
        },
        "outputId": "f8cb4e8c-f8c9-4411-89cb-7ea399e5a1ce",
        "id": "R1hgRrMCvxh4"
      },
      "execution_count": null,
      "outputs": [
        {
          "output_type": "stream",
          "name": "stdout",
          "text": [
            "dict 1 2 3 4 5 "
          ]
        }
      ]
    },
    {
      "cell_type": "markdown",
      "source": [
        "**Примечание** - for-цикл для словаря выдаст ключи словаря, не значения."
      ],
      "metadata": {
        "id": "4g7IJIWIUssf"
      }
    },
    {
      "cell_type": "markdown",
      "source": [
        "Аналогично конструкции `while-else`, существует и конструкция `for-else`:"
      ],
      "metadata": {
        "id": "I6hXKApuVcQp"
      }
    },
    {
      "cell_type": "code",
      "source": [
        "numbers = [1, 3, 7, 8, -5]\n",
        "\n",
        "for n in numbers:\n",
        "    if n == 5:\n",
        "        print('Нашли пятёрку')\n",
        "        break\n",
        "        \n",
        "else: # если break не сработал\n",
        "    print('Не нашли пятёрку')"
      ],
      "metadata": {
        "colab": {
          "base_uri": "https://localhost:8080/"
        },
        "id": "1nmawubtVh2s",
        "outputId": "311b14fe-b1ed-4387-9218-b226a5260f9e"
      },
      "execution_count": null,
      "outputs": [
        {
          "output_type": "stream",
          "name": "stdout",
          "text": [
            "Не нашли пятёрку\n"
          ]
        }
      ]
    },
    {
      "cell_type": "markdown",
      "source": [
        "##### **Примечание для новеньких - вложенные циклы**"
      ],
      "metadata": {
        "id": "Bntzpsy33MUn"
      }
    },
    {
      "cell_type": "markdown",
      "source": [
        "Циклы можно размещать и внутри других циклов. Рассмотрим на примере одного из методов сортировки списка - сортировки \"пузырьком\": "
      ],
      "metadata": {
        "id": "23sZT1VjL89c"
      }
    },
    {
      "cell_type": "code",
      "source": [
        "list_to_sort = [15, 3, 7, 2, 11, 9, 4, 6, 5]\n",
        "\n",
        "for i in range(len(list_to_sort) - 1):\n",
        "    for j in range(i + 1, len(list_to_sort)):\n",
        "        if list_to_sort[j] < list_to_sort[i]:\n",
        "            list_to_sort[i], list_to_sort[j] = list_to_sort[j], list_to_sort[i]\n",
        "\n",
        "print(list_to_sort)"
      ],
      "metadata": {
        "colab": {
          "base_uri": "https://localhost:8080/"
        },
        "id": "dn3co1xDMI6z",
        "outputId": "68a45b92-b65b-4534-8489-f56967e90264"
      },
      "execution_count": null,
      "outputs": [
        {
          "output_type": "stream",
          "name": "stdout",
          "text": [
            "[2, 3, 4, 5, 6, 7, 9, 11, 15]\n"
          ]
        }
      ]
    },
    {
      "cell_type": "markdown",
      "source": [
        "# `range`"
      ],
      "metadata": {
        "id": "kvDeTnszVmsT"
      }
    },
    {
      "cell_type": "markdown",
      "source": [
        "Что делать, если просто хотим пройти по числам в диапазоне?\n",
        "\n",
        "Решение \"в лоб\", как это делается во многих языках программирования:"
      ],
      "metadata": {
        "id": "GWNxJ5CtwREu"
      }
    },
    {
      "cell_type": "code",
      "source": [
        "i = 0\n",
        "max_i = 10\n",
        "while i < max_i:\n",
        "    print(i, end=' ')\n",
        "    # do_something()\n",
        "    i += 1"
      ],
      "metadata": {
        "id": "nOl8Y-5EwXu0",
        "colab": {
          "base_uri": "https://localhost:8080/"
        },
        "outputId": "e93a83c2-0bfa-4bb3-e56b-e320f35be145"
      },
      "execution_count": null,
      "outputs": [
        {
          "output_type": "stream",
          "name": "stdout",
          "text": [
            "0 1 2 3 4 5 6 7 8 9 "
          ]
        }
      ]
    },
    {
      "cell_type": "markdown",
      "source": [
        "Это достаточно неудобно для такой часто используемой операции! Поэтому в Python для решения этой задачи ввели специальную функцию - `range` (диапазон)."
      ],
      "metadata": {
        "id": "Eyo8qaYTwqaz"
      }
    },
    {
      "cell_type": "markdown",
      "source": [
        "`range([start,] stop[, step])` возвращает неизменяемую последовательность чисел.\n",
        "\n",
        "По умолчанию `start=0`, `step=1`, и получаем `[0, stop)`."
      ],
      "metadata": {
        "id": "Tdq8E4EyU5oE"
      }
    },
    {
      "cell_type": "code",
      "source": [
        "for i in range(10, 21, 2):\n",
        "    print(i, end=' ')"
      ],
      "metadata": {
        "colab": {
          "base_uri": "https://localhost:8080/"
        },
        "id": "ZQibTyXZw7Dv",
        "outputId": "a050c4e5-4563-42ea-82ac-7eb8c2b18687"
      },
      "execution_count": null,
      "outputs": [
        {
          "output_type": "stream",
          "name": "stdout",
          "text": [
            "10 12 14 16 18 20 "
          ]
        }
      ]
    },
    {
      "cell_type": "code",
      "source": [
        "for i in range(10, 20):\n",
        "    print(i, end=' ')"
      ],
      "metadata": {
        "colab": {
          "base_uri": "https://localhost:8080/"
        },
        "id": "SSKQUQutw-b4",
        "outputId": "4567eed8-d23b-4ef8-dbd4-238606c9ef1d"
      },
      "execution_count": null,
      "outputs": [
        {
          "output_type": "stream",
          "name": "stdout",
          "text": [
            "10 11 12 13 14 15 16 17 18 19 "
          ]
        }
      ]
    },
    {
      "cell_type": "code",
      "source": [
        "for i in range(7):\n",
        "    print(i, end=' ')"
      ],
      "metadata": {
        "colab": {
          "base_uri": "https://localhost:8080/"
        },
        "id": "Z2vlStTdBrFy",
        "outputId": "1133e0d9-0108-4115-ad60-8c4deef54a5e"
      },
      "execution_count": null,
      "outputs": [
        {
          "output_type": "stream",
          "name": "stdout",
          "text": [
            "0 1 2 3 4 5 6 "
          ]
        }
      ]
    },
    {
      "cell_type": "markdown",
      "source": [
        "Как и в случае со срезами, шаг может быть отрицательным:"
      ],
      "metadata": {
        "id": "QMulYVO1xHIA"
      }
    },
    {
      "cell_type": "code",
      "source": [
        "for i in range(17, 3, -3):\n",
        "    print(i, end=' ')"
      ],
      "metadata": {
        "colab": {
          "base_uri": "https://localhost:8080/"
        },
        "id": "RPydMD_6xMHh",
        "outputId": "29024267-4a9a-4f75-b684-1dc62d97e714"
      },
      "execution_count": null,
      "outputs": [
        {
          "output_type": "stream",
          "name": "stdout",
          "text": [
            "17 14 11 8 5 "
          ]
        }
      ]
    },
    {
      "cell_type": "markdown",
      "source": [
        "Помимо итерирования по `range`, можно проверять входит ли число в него:"
      ],
      "metadata": {
        "id": "eu0Vk5Lpw41n"
      }
    },
    {
      "cell_type": "code",
      "source": [
        "r = range(1, 10, 2)\n",
        "print(type(r), r)"
      ],
      "metadata": {
        "colab": {
          "base_uri": "https://localhost:8080/"
        },
        "id": "x3-RhkbjVCdd",
        "outputId": "b59160c2-6653-49e6-a347-a8ddb96abfeb"
      },
      "execution_count": null,
      "outputs": [
        {
          "output_type": "stream",
          "name": "stdout",
          "text": [
            "<class 'range'> range(1, 10, 2)\n"
          ]
        }
      ]
    },
    {
      "cell_type": "code",
      "source": [
        "print(6 in r)"
      ],
      "metadata": {
        "colab": {
          "base_uri": "https://localhost:8080/"
        },
        "id": "CM_COYbkxVLv",
        "outputId": "39c71166-cafd-4c1d-aa71-f8d83dca04c0"
      },
      "execution_count": null,
      "outputs": [
        {
          "output_type": "stream",
          "name": "stdout",
          "text": [
            "False\n"
          ]
        }
      ]
    },
    {
      "cell_type": "markdown",
      "source": [
        "Если хотим получить из `range(...)` список чисел, которые входят в этот диапазон, то можем воспользоваться \"функцией\" `list`:"
      ],
      "metadata": {
        "id": "Nonbhf2exYNT"
      }
    },
    {
      "cell_type": "code",
      "source": [
        "list(r)"
      ],
      "metadata": {
        "colab": {
          "base_uri": "https://localhost:8080/"
        },
        "id": "f5c7ctAUxUHL",
        "outputId": "f0536fb2-2b5f-465d-a46c-d11c40ca64e4"
      },
      "execution_count": null,
      "outputs": [
        {
          "output_type": "execute_result",
          "data": {
            "text/plain": [
              "[1, 3, 5, 7, 9]"
            ]
          },
          "metadata": {},
          "execution_count": 11
        }
      ]
    },
    {
      "cell_type": "markdown",
      "source": [
        "В результате пользоваться `for`-циклом можно пользоваться такими вариантами:"
      ],
      "metadata": {
        "id": "0D4i-lKqVImg"
      }
    },
    {
      "cell_type": "code",
      "source": [
        "name_list = ['Alice', 'Bob', 'Charley']\n",
        "for name in name_list:  # Перебираем элементы списка\n",
        "    print('Hello, ' + name)"
      ],
      "metadata": {
        "colab": {
          "base_uri": "https://localhost:8080/"
        },
        "id": "lCdt706cCLIK",
        "outputId": "1d50a6c3-1940-4310-fb01-1afb1235deea"
      },
      "execution_count": null,
      "outputs": [
        {
          "output_type": "stream",
          "name": "stdout",
          "text": [
            "Hello, Alice\n",
            "Hello, Bob\n",
            "Hello, Charley\n"
          ]
        }
      ]
    },
    {
      "cell_type": "code",
      "source": [
        "for i in range(len(name_list)):  # Перебираем индексы от 0 до L-1\n",
        "    print('Hello, ' + name_list[i])"
      ],
      "metadata": {
        "colab": {
          "base_uri": "https://localhost:8080/"
        },
        "id": "3KDofwsSCa-E",
        "outputId": "eac53fe1-583d-4b45-ae9d-62ba4bceee8d"
      },
      "execution_count": null,
      "outputs": [
        {
          "output_type": "stream",
          "name": "stdout",
          "text": [
            "Hello, Alice\n",
            "Hello, Bob\n",
            "Hello, Charley\n"
          ]
        }
      ]
    },
    {
      "cell_type": "code",
      "source": [
        "for pair in enumerate(name_list): # Перебираем пары индекс-элемент\n",
        "    i, name = pair\n",
        "    print(pair, i, name)"
      ],
      "metadata": {
        "colab": {
          "base_uri": "https://localhost:8080/"
        },
        "id": "l6vIqElJC9VY",
        "outputId": "fb4f8670-7945-4c67-984d-4498e3f4aeff"
      },
      "execution_count": null,
      "outputs": [
        {
          "output_type": "stream",
          "name": "stdout",
          "text": [
            "(0, 'Alice') 0 Alice\n",
            "(1, 'Bob') 1 Bob\n",
            "(2, 'Charley') 2 Charley\n"
          ]
        }
      ]
    },
    {
      "cell_type": "code",
      "source": [
        "for i, name in enumerate(name_list): # Перебираем пары индекс-элемент\n",
        "    print('Hello, ' + name_list[i] + \"\\t\" + name)"
      ],
      "metadata": {
        "colab": {
          "base_uri": "https://localhost:8080/"
        },
        "id": "tvqikS3HVLNg",
        "outputId": "b3cca2a8-81ec-4b61-c3f6-273a75c1ce22"
      },
      "execution_count": null,
      "outputs": [
        {
          "output_type": "stream",
          "name": "stdout",
          "text": [
            "Hello, Alice\tAlice\n",
            "Hello, Bob\tBob\n",
            "Hello, Charley\tCharley\n"
          ]
        }
      ]
    },
    {
      "cell_type": "code",
      "source": [
        "i = 0\n",
        "while i < len(name_list):\n",
        "    print(\"Hello\", name_list[i])\n",
        "    i += 2\n"
      ],
      "metadata": {
        "colab": {
          "base_uri": "https://localhost:8080/"
        },
        "id": "GdkaZkkjDrey",
        "outputId": "96d4f6cd-2dc1-4a45-d8de-c9790cbc7858"
      },
      "execution_count": null,
      "outputs": [
        {
          "output_type": "stream",
          "name": "stdout",
          "text": [
            "Hello Alice\n",
            "Hello Charley\n"
          ]
        }
      ]
    },
    {
      "cell_type": "code",
      "source": [
        "name_list"
      ],
      "metadata": {
        "colab": {
          "base_uri": "https://localhost:8080/"
        },
        "id": "IGRNQOtTZGaM",
        "outputId": "c084b4ba-a7fe-483a-a526-6639cfdb8405"
      },
      "execution_count": null,
      "outputs": [
        {
          "output_type": "execute_result",
          "data": {
            "text/plain": [
              "['Alice', 'Bob', 'Charley']"
            ]
          },
          "metadata": {},
          "execution_count": 36
        }
      ]
    },
    {
      "cell_type": "code",
      "source": [
        "list(enumerate(name_list))"
      ],
      "metadata": {
        "colab": {
          "base_uri": "https://localhost:8080/"
        },
        "id": "AVIS-22sZIlq",
        "outputId": "a4bf2744-efe7-47d5-a699-9d185dea1e86"
      },
      "execution_count": null,
      "outputs": [
        {
          "output_type": "execute_result",
          "data": {
            "text/plain": [
              "[(0, 'Alice'), (1, 'Bob'), (2, 'Charley')]"
            ]
          },
          "metadata": {},
          "execution_count": 37
        }
      ]
    },
    {
      "cell_type": "markdown",
      "source": [
        "# list comprehensions"
      ],
      "metadata": {
        "id": "cfPBOP8TVyN5"
      }
    },
    {
      "cell_type": "markdown",
      "source": [
        "Часто приходится создавать производные списки - новые списки, элементы которых вычисляются из соответствующих элементов другого контейнера. Например, список квадратов чисел:"
      ],
      "metadata": {
        "id": "KuFOuPuzx0TD"
      }
    },
    {
      "cell_type": "code",
      "source": [
        "input_list = [3, 14, 15, 92, 65, 35, 89, 79, 323, 84626]\n",
        "\n",
        "output_list = [0] * len(input_list)  # создаем список из нулей длины как input_list\n",
        "for i, item in enumerate(input_list):  # \"функция\" enumerate позволяет получать не только элеметы, но и их порядковый номер\n",
        "    output_list[i] = input_list[i] ** 2\n",
        "\n",
        "print(output_list)"
      ],
      "metadata": {
        "colab": {
          "base_uri": "https://localhost:8080/"
        },
        "id": "GwhwJtyYyClQ",
        "outputId": "b03b8eb3-30dc-4136-c461-0f8d587a074c"
      },
      "execution_count": null,
      "outputs": [
        {
          "output_type": "stream",
          "name": "stdout",
          "text": [
            "[9, 196, 225, 8464, 4225, 1225, 7921, 6241, 104329, 7161559876]\n"
          ]
        }
      ]
    },
    {
      "cell_type": "markdown",
      "source": [
        "Чтобы упростить создание подобных списков, в Python есть очень удобная штука под названием **list comprehension**, выглядит она вот так:\n",
        "\n",
        "```python\n",
        "[выражение for var in iterable_var if condition]\n",
        "```"
      ],
      "metadata": {
        "id": "0RZXvo0sV04_"
      }
    },
    {
      "cell_type": "markdown",
      "source": [
        "Тогда наш пример выше перепишется как:"
      ],
      "metadata": {
        "id": "ROep4iGEy4Hr"
      }
    },
    {
      "cell_type": "code",
      "source": [
        "output_list = [item ** 2 for item in input_list]\n",
        "print(output_list)"
      ],
      "metadata": {
        "colab": {
          "base_uri": "https://localhost:8080/"
        },
        "id": "jhpfM-Czy0yr",
        "outputId": "a27b33d4-c765-4128-859a-98961c42a3e8"
      },
      "execution_count": null,
      "outputs": [
        {
          "output_type": "stream",
          "name": "stdout",
          "text": [
            "[9, 196, 225, 8464, 4225, 1225, 7921, 6241, 104329, 7161559876]\n"
          ]
        }
      ]
    },
    {
      "cell_type": "markdown",
      "source": [
        "Рассмотрим пример использования условия (`condition`) при создании производных списков. Для этого будем сохранять в выходной список только те элементы, которые делятся на `2`:"
      ],
      "metadata": {
        "id": "msDsNRgwzPpG"
      }
    },
    {
      "cell_type": "code",
      "source": [
        "output_list = [item ** 2 for item in input_list if item % 2 == 0]\n",
        "print(output_list)"
      ],
      "metadata": {
        "colab": {
          "base_uri": "https://localhost:8080/"
        },
        "id": "gm1Skimzzi4G",
        "outputId": "a177a34d-6a86-4961-f7da-ef19d1599519"
      },
      "execution_count": null,
      "outputs": [
        {
          "output_type": "stream",
          "name": "stdout",
          "text": [
            "[196, 8464, 7161559876]\n"
          ]
        }
      ]
    },
    {
      "cell_type": "markdown",
      "source": [
        "`list comprehension` можно использовать в связке с тернарным оператором:"
      ],
      "metadata": {
        "id": "GXtv2zxB2ciO"
      }
    },
    {
      "cell_type": "code",
      "source": [
        "result = [x if x != 7 else 7 ** 25 for x in range(10)]\n",
        "print(result)"
      ],
      "metadata": {
        "colab": {
          "base_uri": "https://localhost:8080/"
        },
        "id": "gfWLWnh0Fot-",
        "outputId": "d991466e-1277-4541-890a-9c98866769be"
      },
      "execution_count": null,
      "outputs": [
        {
          "output_type": "stream",
          "name": "stdout",
          "text": [
            "[0, 1, 2, 3, 4, 5, 6, 1341068619663964900807, 8, 9]\n"
          ]
        }
      ]
    },
    {
      "cell_type": "markdown",
      "source": [
        "Часто list comprehension используют в связке с range. Например, если вам нужно создать список кубов чисел, которые делятся на 3 без остатка:"
      ],
      "metadata": {
        "id": "8f3drJB2zomF"
      }
    },
    {
      "cell_type": "code",
      "source": [
        "result = [x ** 3 for x in range(10) if x % 3 == 0]\n",
        "print(result)"
      ],
      "metadata": {
        "id": "ah4iewI9V90V",
        "colab": {
          "base_uri": "https://localhost:8080/"
        },
        "outputId": "a7dcc43c-20fa-4b99-ad48-815c7eeb8aa4"
      },
      "execution_count": null,
      "outputs": [
        {
          "output_type": "stream",
          "name": "stdout",
          "text": [
            "[0, 27, 216, 729]\n"
          ]
        }
      ]
    },
    {
      "cell_type": "markdown",
      "source": [
        "Аналогичный результат классическим способом выглядел бы так:"
      ],
      "metadata": {
        "id": "oGjHTp4p0Fck"
      }
    },
    {
      "cell_type": "code",
      "source": [
        "result = []\n",
        "for x in range(10):\n",
        "    if x % 3 == 0:\n",
        "        result.append(x ** 3)\n",
        "print(result)"
      ],
      "metadata": {
        "colab": {
          "base_uri": "https://localhost:8080/"
        },
        "id": "DZBjR5e0FBnq",
        "outputId": "8b164b39-4329-4c49-fbf1-c19645ebb37f"
      },
      "execution_count": null,
      "outputs": [
        {
          "output_type": "stream",
          "name": "stdout",
          "text": [
            "[0, 27, 216, 729]\n"
          ]
        }
      ]
    },
    {
      "cell_type": "markdown",
      "source": [
        "Можно делать и вложенные list comprehension, но это ухудшает читаемость:"
      ],
      "metadata": {
        "id": "Hw4e7gqocDlv"
      }
    },
    {
      "cell_type": "code",
      "source": [
        "[(y, x) for x in range(2, 10) for y in range(x+1, 10) if y % x == 0]"
      ],
      "metadata": {
        "colab": {
          "base_uri": "https://localhost:8080/"
        },
        "id": "WJQa8RwMb1lW",
        "outputId": "254f1b55-663c-4d05-8a95-0a11e34b6786"
      },
      "execution_count": null,
      "outputs": [
        {
          "output_type": "execute_result",
          "data": {
            "text/plain": [
              "[(4, 2), (6, 2), (8, 2), (6, 3), (9, 3), (8, 4)]"
            ]
          },
          "metadata": {},
          "execution_count": 46
        }
      ]
    },
    {
      "cell_type": "markdown",
      "source": [
        "Код выше аналогичен следующему:"
      ],
      "metadata": {
        "id": "yeFJ3c1o0NIc"
      }
    },
    {
      "cell_type": "code",
      "source": [
        "result = []\n",
        "for x in range(2, 10):\n",
        "    for y in range(x+1, 10):\n",
        "        if y % x == 0:\n",
        "            result.append((y, x))\n",
        "print(result)"
      ],
      "metadata": {
        "colab": {
          "base_uri": "https://localhost:8080/"
        },
        "id": "TnOekBlk0RO7",
        "outputId": "1fc3ca74-0b79-4231-c05b-aab311d6c1a5"
      },
      "execution_count": null,
      "outputs": [
        {
          "output_type": "stream",
          "name": "stdout",
          "text": [
            "[(4, 2), (6, 2), (8, 2), (6, 3), (9, 3), (8, 4)]\n"
          ]
        }
      ]
    },
    {
      "cell_type": "markdown",
      "source": [
        "### `dict comprehension` и `set comprehension`"
      ],
      "metadata": {
        "id": "NOA4JE7G0mir"
      }
    },
    {
      "cell_type": "markdown",
      "source": [
        "Можно ли так же удобно создавать не только списки, но и множества и словари?\n",
        "\n",
        "Да, аналогично существуют `dict comprehension` и `set comprehension`:"
      ],
      "metadata": {
        "id": "uN1PbcdDcL_A"
      }
    },
    {
      "cell_type": "code",
      "source": [
        "result = {x: x ** 2 for x in range(10)}\n",
        "print(type(result), result)"
      ],
      "metadata": {
        "colab": {
          "base_uri": "https://localhost:8080/"
        },
        "id": "hMPIDMNXFfXY",
        "outputId": "726a3903-04b8-43bd-93bd-9da61e02b7c2"
      },
      "execution_count": null,
      "outputs": [
        {
          "output_type": "stream",
          "name": "stdout",
          "text": [
            "<class 'dict'> {0: 0, 1: 1, 2: 4, 3: 9, 4: 16, 5: 25, 6: 36, 7: 49, 8: 64, 9: 81}\n"
          ]
        }
      ]
    },
    {
      "cell_type": "code",
      "source": [
        "result = {x ** 2 for x in range(10)}\n",
        "print(type(result), result)"
      ],
      "metadata": {
        "colab": {
          "base_uri": "https://localhost:8080/"
        },
        "id": "e0Uf5G1KcUvx",
        "outputId": "5bfab751-a235-4c37-aa7c-9474f560bae4"
      },
      "execution_count": null,
      "outputs": [
        {
          "output_type": "stream",
          "name": "stdout",
          "text": [
            "<class 'set'> {0, 1, 64, 4, 36, 9, 16, 49, 81, 25}\n"
          ]
        }
      ]
    },
    {
      "cell_type": "markdown",
      "source": [
        "А что делать, если хотим пройтись по символам строки?\n",
        "\n",
        "Здесь используется следующий трюк:"
      ],
      "metadata": {
        "id": "pW4IUYOg1Ixd"
      }
    },
    {
      "cell_type": "code",
      "source": [
        "string = \"abc\"\n",
        "\n",
        "result = [string[i] for i in range(len(string)) if string[i] != 'c']\n",
        "''.join(result)"
      ],
      "metadata": {
        "colab": {
          "base_uri": "https://localhost:8080/",
          "height": 34
        },
        "id": "h23WcCFFbi_p",
        "outputId": "cb59978f-6b33-4918-b919-397adc958bb9"
      },
      "execution_count": null,
      "outputs": [
        {
          "output_type": "execute_result",
          "data": {
            "text/plain": [
              "'ab'"
            ],
            "application/vnd.google.colaboratory.intrinsic+json": {
              "type": "string"
            }
          },
          "metadata": {},
          "execution_count": 49
        }
      ]
    },
    {
      "cell_type": "markdown",
      "source": [
        "Мы сначала записываем подходящие буквы в список, а затем соединяем список символов (более формально, список строк) с помощью метода `join`, при этом соединяем их с помощью пустой строки."
      ],
      "metadata": {
        "id": "YCT8gqxQ1Qcl"
      }
    },
    {
      "cell_type": "code",
      "source": [
        "'___'.join(result)  # Можем соединять не только пустой строкой"
      ],
      "metadata": {
        "colab": {
          "base_uri": "https://localhost:8080/",
          "height": 34
        },
        "id": "2XIiUwS11l4v",
        "outputId": "0da89497-3f24-420e-b537-eedc2040be54"
      },
      "execution_count": null,
      "outputs": [
        {
          "output_type": "execute_result",
          "data": {
            "text/plain": [
              "'a___b'"
            ],
            "application/vnd.google.colaboratory.intrinsic+json": {
              "type": "string"
            }
          },
          "metadata": {},
          "execution_count": 50
        }
      ]
    },
    {
      "cell_type": "code",
      "source": [
        "list_of_strings = ['hello', 'world', 'uwu']  # Можем соединять не только список символов, но и любых строк\n",
        "' ^_^ '.join(list_of_strings)"
      ],
      "metadata": {
        "colab": {
          "base_uri": "https://localhost:8080/",
          "height": 34
        },
        "id": "L7--RZ2r1r6J",
        "outputId": "2af751df-3ad8-48b5-d52a-eae8b273bc13"
      },
      "execution_count": null,
      "outputs": [
        {
          "output_type": "execute_result",
          "data": {
            "text/plain": [
              "'hello ^_^ world ^_^ uwu'"
            ],
            "application/vnd.google.colaboratory.intrinsic+json": {
              "type": "string"
            }
          },
          "metadata": {},
          "execution_count": 51
        }
      ]
    },
    {
      "cell_type": "markdown",
      "source": [
        "А что насчет кортежей? Можем ли мы так же легко создать производный кортеж, заменив скобки на круглые?"
      ],
      "metadata": {
        "id": "6eH8ECOw2JTg"
      }
    },
    {
      "cell_type": "markdown",
      "source": [
        "Увы, `tuple comprehension` не существует. Вместо этого круглые скобочки дают нам генераторное выражение (generator expression):"
      ],
      "metadata": {
        "id": "iOe32dAYg5hL"
      }
    },
    {
      "cell_type": "code",
      "source": [
        "result = (x ** 2 for x in range(10))\n",
        "print(type(result), result)"
      ],
      "metadata": {
        "colab": {
          "base_uri": "https://localhost:8080/"
        },
        "id": "_iuE5Xlt2q23",
        "outputId": "43dad22e-385d-4eca-93d8-1ea4473425b1"
      },
      "execution_count": null,
      "outputs": [
        {
          "output_type": "stream",
          "name": "stdout",
          "text": [
            "<class 'generator'> <generator object <genexpr> at 0x7f588d5f3270>\n"
          ]
        }
      ]
    },
    {
      "cell_type": "markdown",
      "source": [
        "**Генераторы** - более продвинутая часть Python. Мы обсудим ее в блоке EXTRA на одном из следующих занятий."
      ],
      "metadata": {
        "id": "McgC-_O56Paw"
      }
    },
    {
      "cell_type": "markdown",
      "source": [
        "# `zip`"
      ],
      "metadata": {
        "id": "ScMstq3N3QHc"
      }
    },
    {
      "cell_type": "markdown",
      "source": [
        "Что делать, если хотим пройтись по двум спискам одновременно? Посмотрим на классический подход?"
      ],
      "metadata": {
        "id": "ckWSkZVI6k5w"
      }
    },
    {
      "cell_type": "code",
      "source": [
        "list_a = [1, 3, 5, 7, 9]\n",
        "list_b = [2, 4, 6, 8, 10]\n",
        "list_c = []\n",
        "\n",
        "for i in range(len(list_a)):\n",
        "    list_c.append(list_a[i] + list_b[i])\n",
        "\n",
        "print(list_c)"
      ],
      "metadata": {
        "colab": {
          "base_uri": "https://localhost:8080/"
        },
        "id": "VMHqA6jc6sHv",
        "outputId": "f487853f-faee-4f71-db9a-eb8bb3e80522"
      },
      "execution_count": null,
      "outputs": [
        {
          "output_type": "stream",
          "name": "stdout",
          "text": [
            "[3, 7, 11, 15, 19]\n"
          ]
        }
      ]
    },
    {
      "cell_type": "markdown",
      "source": [
        "Постоянно обращаться к элементам по индексу неудобно с точки зрения написания кода и неоптимально с точки зрения скорости работы.\n",
        "\n",
        "Выход \"в лоб\" - объявить переменные внутри цикла:"
      ],
      "metadata": {
        "id": "ApyqiVcb7ds6"
      }
    },
    {
      "cell_type": "code",
      "source": [
        "list_a = [1, 3, 5, 7, 9]\n",
        "list_b = [2, 4, 6, 8, 10]\n",
        "list_c = []\n",
        "\n",
        "for i in range(len(list_a)):\n",
        "    item_a = list_a[i]\n",
        "    item_b = list_b[i]\n",
        "    list_c.append(item_a + item_b)\n",
        "\n",
        "print(list_c)"
      ],
      "metadata": {
        "id": "K_VDGoGM7tj6"
      },
      "execution_count": null,
      "outputs": []
    },
    {
      "cell_type": "markdown",
      "source": [
        "Каждый раз писать такие присвоения - тоже неудобно. В Python есть встроенная \"функция\" для этого - `zip`:"
      ],
      "metadata": {
        "id": "gX2i9_VL7tDt"
      }
    },
    {
      "cell_type": "code",
      "source": [
        "list_a = [1, 3, 5, 7, 9]\n",
        "list_b = [2, 4, 6, 8, 10]\n",
        "list_c = []\n",
        "\n",
        "for item in zip(list_a, list_b):\n",
        "    list_c.append(item[0] + item[1])\n",
        "\n",
        "print(list_c)"
      ],
      "metadata": {
        "colab": {
          "base_uri": "https://localhost:8080/"
        },
        "id": "e8DNLdgZ8KKe",
        "outputId": "afdde508-6d2d-4be5-e72a-b2d6a6d1fb3f"
      },
      "execution_count": null,
      "outputs": [
        {
          "output_type": "stream",
          "name": "stdout",
          "text": [
            "[3, 7, 11, 15, 19]\n"
          ]
        }
      ]
    },
    {
      "cell_type": "markdown",
      "source": [
        "Каждый раз обращаться по индексу кортежа item для доступа к элементу тоже не очень удобно. Поэтому можно сделать следующее:"
      ],
      "metadata": {
        "id": "fK7Yujrf8VPJ"
      }
    },
    {
      "cell_type": "code",
      "source": [
        "list_a = [1, 3, 5, 7, 9]\n",
        "list_b = [2, 4, 6, 8, 10]\n",
        "list_c = []\n",
        "\n",
        "for item_a, item_b in zip(list_a, list_b):\n",
        "    list_c.append(item_a + item_b)\n",
        "\n",
        "print(list_c)"
      ],
      "metadata": {
        "colab": {
          "base_uri": "https://localhost:8080/"
        },
        "id": "Ogw1oZci81tB",
        "outputId": "dac0ecc5-24a2-4d5d-e737-47eef05bdb98"
      },
      "execution_count": null,
      "outputs": [
        {
          "output_type": "stream",
          "name": "stdout",
          "text": [
            "[3, 7, 11, 15, 19]\n"
          ]
        }
      ]
    },
    {
      "cell_type": "code",
      "source": [
        "list_a"
      ],
      "metadata": {
        "colab": {
          "base_uri": "https://localhost:8080/"
        },
        "id": "-R-7Cceoc6BE",
        "outputId": "3be4e112-059d-417c-c7ed-92a12cc97f6e"
      },
      "execution_count": null,
      "outputs": [
        {
          "output_type": "execute_result",
          "data": {
            "text/plain": [
              "[1, 3, 5, 7, 9]"
            ]
          },
          "metadata": {},
          "execution_count": 55
        }
      ]
    },
    {
      "cell_type": "code",
      "source": [
        "list_b"
      ],
      "metadata": {
        "colab": {
          "base_uri": "https://localhost:8080/"
        },
        "id": "_xuZS02nc7Tj",
        "outputId": "0fec161a-b50a-4309-ae65-74f5d665764b"
      },
      "execution_count": null,
      "outputs": [
        {
          "output_type": "execute_result",
          "data": {
            "text/plain": [
              "[2, 4, 6, 8, 10]"
            ]
          },
          "metadata": {},
          "execution_count": 56
        }
      ]
    },
    {
      "cell_type": "code",
      "source": [
        "list(zip(list_a, list_b))"
      ],
      "metadata": {
        "colab": {
          "base_uri": "https://localhost:8080/"
        },
        "id": "U5s_UzsQc8wm",
        "outputId": "2c7d6684-4688-47e7-af7b-d3b43390efbe"
      },
      "execution_count": null,
      "outputs": [
        {
          "output_type": "execute_result",
          "data": {
            "text/plain": [
              "[(1, 2), (3, 4), (5, 6), (7, 8), (9, 10)]"
            ]
          },
          "metadata": {},
          "execution_count": 57
        }
      ]
    },
    {
      "cell_type": "markdown",
      "source": [
        "Но что будет, если контейнеры имеют разное количество элементов?"
      ],
      "metadata": {
        "id": "Lc4FL_mnK38H"
      }
    },
    {
      "cell_type": "code",
      "source": [
        "list_a = [1, 3, 5]\n",
        "list_b = [2, 4, 6, 8, 10]\n",
        "list_c = []\n",
        "\n",
        "for item_a, item_b in zip(list_a, list_b):\n",
        "    list_c.append(item_a + item_b)\n",
        "\n",
        "print(list_c)"
      ],
      "metadata": {
        "colab": {
          "base_uri": "https://localhost:8080/"
        },
        "id": "RHpik1dMK-iM",
        "outputId": "e7cab75d-6a7e-4b63-dd9d-a1c90874cc5e"
      },
      "execution_count": null,
      "outputs": [
        {
          "output_type": "stream",
          "name": "stdout",
          "text": [
            "[3, 7, 11]\n"
          ]
        }
      ]
    },
    {
      "cell_type": "markdown",
      "source": [
        "Фактически мы обрежем контейнеры по длине наименьшего."
      ],
      "metadata": {
        "id": "yq8QzkPeLAm3"
      }
    },
    {
      "cell_type": "markdown",
      "source": [
        "Но что если бы мы хотели пройтись по всем элементам наших контейнеров? Что если знаем, как стоит дополнить наши контейнеры?\n",
        "\n",
        "К сожалению, `zip` не позволяет это сделать, однако, мы можем это сделать с помощью функции, скрытом в одном из стандартных модулей Python - `itertools`."
      ],
      "metadata": {
        "id": "gIS7zN-yLJau"
      }
    },
    {
      "cell_type": "markdown",
      "source": [
        "# itertools"
      ],
      "metadata": {
        "id": "iuX6uARXchGh"
      }
    },
    {
      "cell_type": "markdown",
      "source": [
        "В Python встрено огромное количество полезных модулей. В рамках нашего курса мы познакомимся с некоторыми из них.\n",
        "\n",
        "Один из часто используемых модулей - модуль [itertools](https://docs.python.org/3/library/itertools.html)."
      ],
      "metadata": {
        "id": "2oxPl_9Il1I_"
      }
    },
    {
      "cell_type": "markdown",
      "source": [
        "Для того, чтобы подключить модуль, можно воспользоваться оператором импорта:"
      ],
      "metadata": {
        "id": "ym01JjRem4Rk"
      }
    },
    {
      "cell_type": "code",
      "source": [
        "import itertools"
      ],
      "metadata": {
        "id": "COLQ266Vm1pY"
      },
      "execution_count": null,
      "outputs": []
    },
    {
      "cell_type": "markdown",
      "source": [
        "## `zip_longest`"
      ],
      "metadata": {
        "id": "OqwZru-698ZB"
      }
    },
    {
      "cell_type": "markdown",
      "source": [
        "Работает как обычный `zip`, но требует аргумента `fillvalue` (значение для заполнения):"
      ],
      "metadata": {
        "id": "TU4D5ETyLtkA"
      }
    },
    {
      "cell_type": "code",
      "source": [
        "list_a = [1, 3, 5]\n",
        "list_b = [2, 4, 6, 8, 10]\n",
        "list_c = []\n",
        "\n",
        "for item_a, item_b in itertools.zip_longest(list_a, list_b, fillvalue=0):\n",
        "    list_c.append(item_a + item_b)\n",
        "\n",
        "print(list_c)"
      ],
      "metadata": {
        "colab": {
          "base_uri": "https://localhost:8080/"
        },
        "id": "7Q2gqdYTLlHs",
        "outputId": "5e0afccd-03ef-43d4-8bef-fd7ee0cfbc9a"
      },
      "execution_count": null,
      "outputs": [
        {
          "output_type": "stream",
          "name": "stdout",
          "text": [
            "[3, 7, 11, 8, 10]\n"
          ]
        }
      ]
    },
    {
      "cell_type": "markdown",
      "source": [
        "## `product`"
      ],
      "metadata": {
        "id": "IqtHgeCN94Kv"
      }
    },
    {
      "cell_type": "markdown",
      "source": [
        "Одна из функций этого модуля - функция `product`. Она позволяет удобно и лакончно записывать вложенные циклы разной глубины (цикл-в-цикле):"
      ],
      "metadata": {
        "id": "zYZRSQTSmpAo"
      }
    },
    {
      "cell_type": "code",
      "source": [
        "for i, j, k in itertools.product(range(2), \"abc\", [1, 2, 3]):\n",
        "    print(i, j, k)"
      ],
      "metadata": {
        "id": "mdgozOSGnE3M",
        "colab": {
          "base_uri": "https://localhost:8080/"
        },
        "outputId": "e843e98e-cc7e-4299-8c51-83878bf18cf0"
      },
      "execution_count": null,
      "outputs": [
        {
          "output_type": "stream",
          "name": "stdout",
          "text": [
            "0 a 1\n",
            "0 a 2\n",
            "0 a 3\n",
            "0 b 1\n",
            "0 b 2\n",
            "0 b 3\n",
            "0 c 1\n",
            "0 c 2\n",
            "0 c 3\n",
            "1 a 1\n",
            "1 a 2\n",
            "1 a 3\n",
            "1 b 1\n",
            "1 b 2\n",
            "1 b 3\n",
            "1 c 1\n",
            "1 c 2\n",
            "1 c 3\n"
          ]
        }
      ]
    },
    {
      "cell_type": "markdown",
      "source": [
        "Этот код эквивалентен следующему:"
      ],
      "metadata": {
        "id": "lnNVHcDUnFWB"
      }
    },
    {
      "cell_type": "code",
      "source": [
        "for i in range(2):\n",
        "    for j in \"abc\":\n",
        "        for k in [1,2,3]:\n",
        "            print(i, j, k)"
      ],
      "metadata": {
        "id": "WFUhOM2enDYy",
        "colab": {
          "base_uri": "https://localhost:8080/"
        },
        "outputId": "57520c66-0d4d-42b4-82cb-6c549c51a2d2"
      },
      "execution_count": null,
      "outputs": [
        {
          "output_type": "stream",
          "name": "stdout",
          "text": [
            "0 a 1\n",
            "0 a 2\n",
            "0 a 3\n",
            "0 b 1\n",
            "0 b 2\n",
            "0 b 3\n",
            "0 c 1\n",
            "0 c 2\n",
            "0 c 3\n",
            "1 a 1\n",
            "1 a 2\n",
            "1 a 3\n",
            "1 b 1\n",
            "1 b 2\n",
            "1 b 3\n",
            "1 c 1\n",
            "1 c 2\n",
            "1 c 3\n"
          ]
        }
      ]
    },
    {
      "cell_type": "markdown",
      "source": [
        "## Комбинаторика"
      ],
      "metadata": {
        "id": "5eQ5iamj96XG"
      }
    },
    {
      "cell_type": "markdown",
      "source": [
        "Также можно применять для комбинаторики - перестановки, комбинации, комбинации с повторениями:"
      ],
      "metadata": {
        "id": "xjVvx2LIcpcw"
      }
    },
    {
      "cell_type": "code",
      "source": [
        "list(itertools.permutations([1, 2, 3]))"
      ],
      "metadata": {
        "colab": {
          "base_uri": "https://localhost:8080/"
        },
        "id": "B8s2H5cectct",
        "outputId": "bb0e0474-09c8-4653-ce98-c8f63499c445"
      },
      "execution_count": null,
      "outputs": [
        {
          "output_type": "execute_result",
          "data": {
            "text/plain": [
              "[(1, 2, 3), (1, 3, 2), (2, 1, 3), (2, 3, 1), (3, 1, 2), (3, 2, 1)]"
            ]
          },
          "metadata": {},
          "execution_count": 187
        }
      ]
    },
    {
      "cell_type": "code",
      "source": [
        "list(itertools.combinations([1, 2, 3], 2))"
      ],
      "metadata": {
        "colab": {
          "base_uri": "https://localhost:8080/"
        },
        "id": "nEQC9fjvcwM2",
        "outputId": "3de12f1e-4172-4288-d039-982ecaf7b66c"
      },
      "execution_count": null,
      "outputs": [
        {
          "output_type": "execute_result",
          "data": {
            "text/plain": [
              "[(1, 2), (1, 3), (2, 3)]"
            ]
          },
          "metadata": {},
          "execution_count": 188
        }
      ]
    },
    {
      "cell_type": "code",
      "source": [
        "list(itertools.combinations_with_replacement([1, 2, 3], 2))"
      ],
      "metadata": {
        "colab": {
          "base_uri": "https://localhost:8080/"
        },
        "id": "_QktzHxwc0EQ",
        "outputId": "f446a650-3d2e-4365-84b1-e5076ef8e0ae"
      },
      "execution_count": null,
      "outputs": [
        {
          "output_type": "execute_result",
          "data": {
            "text/plain": [
              "[(1, 1), (1, 2), (1, 3), (2, 2), (2, 3), (3, 3)]"
            ]
          },
          "metadata": {},
          "execution_count": 189
        }
      ]
    },
    {
      "cell_type": "markdown",
      "source": [
        "# EXTRA. Дополнительные контейнеры"
      ],
      "metadata": {
        "id": "j0Cki1TnKB9d"
      }
    },
    {
      "cell_type": "markdown",
      "source": [
        "В Python имеется модуль `collections`, в котором содержится множество полезных, но редко используемых структур данных.\n",
        "\n",
        "Хороший краткий обзор модуля collections можно почитать [здесь](https://pythonworld.ru/moduli/modul-collections.html) "
      ],
      "metadata": {
        "id": "Z2yp5lp1K-G7"
      }
    },
    {
      "cell_type": "markdown",
      "source": [
        "## defaultdict"
      ],
      "metadata": {
        "id": "bLf6ZwVyK3a5"
      }
    },
    {
      "cell_type": "markdown",
      "source": [
        "Модификация словаря, которая позволяет автоматические создавать значения для отсутствующих ключей. Для этого необходимо передать в `defaultdict` имя функции, которая может принимать 0 аргументов:"
      ],
      "metadata": {
        "id": "BIIx3TdVZlRe"
      }
    },
    {
      "cell_type": "code",
      "source": [
        "from collections import defaultdict\n",
        "\n",
        "dct = defaultdict(int)\n",
        "dct"
      ],
      "metadata": {
        "colab": {
          "base_uri": "https://localhost:8080/"
        },
        "id": "FijN2DcHLMJw",
        "outputId": "dd844893-9aed-4c96-c625-7d90bae207e3"
      },
      "execution_count": null,
      "outputs": [
        {
          "output_type": "execute_result",
          "data": {
            "text/plain": [
              "defaultdict(int, {})"
            ]
          },
          "metadata": {},
          "execution_count": 53
        }
      ]
    },
    {
      "cell_type": "code",
      "source": [
        "dct[2], dct"
      ],
      "metadata": {
        "colab": {
          "base_uri": "https://localhost:8080/"
        },
        "id": "mG_icO-mR_aL",
        "outputId": "d350d16e-3f8e-493b-bae3-249c0c5d621f"
      },
      "execution_count": null,
      "outputs": [
        {
          "output_type": "execute_result",
          "data": {
            "text/plain": [
              "(0, defaultdict(int, {2: 0}))"
            ]
          },
          "metadata": {},
          "execution_count": 56
        }
      ]
    },
    {
      "cell_type": "markdown",
      "source": [
        "Вместо `int`, можно указывать и остальные функции, связанные с типами данных, например, `bool`, `list`, `float`: "
      ],
      "metadata": {
        "id": "SpRPQbi4yQjP"
      }
    },
    {
      "cell_type": "code",
      "source": [
        "dct = defaultdict(list)\n",
        "dct"
      ],
      "metadata": {
        "colab": {
          "base_uri": "https://localhost:8080/"
        },
        "id": "adIE09FUycpJ",
        "outputId": "b49c8b8f-e529-4fd2-9322-736563d4391a"
      },
      "execution_count": null,
      "outputs": [
        {
          "output_type": "execute_result",
          "data": {
            "text/plain": [
              "defaultdict(list, {})"
            ]
          },
          "metadata": {},
          "execution_count": 57
        }
      ]
    },
    {
      "cell_type": "code",
      "source": [
        "dct[\"random\"]"
      ],
      "metadata": {
        "colab": {
          "base_uri": "https://localhost:8080/"
        },
        "id": "4oJFVbfFyfoI",
        "outputId": "1c0f6177-f75c-4390-8027-c61aa3ad6fa5"
      },
      "execution_count": null,
      "outputs": [
        {
          "output_type": "execute_result",
          "data": {
            "text/plain": [
              "[]"
            ]
          },
          "metadata": {},
          "execution_count": 58
        }
      ]
    },
    {
      "cell_type": "code",
      "source": [
        "dct"
      ],
      "metadata": {
        "colab": {
          "base_uri": "https://localhost:8080/"
        },
        "id": "9tWYQr8DMA8H",
        "outputId": "819ec040-dde4-49b7-fc31-3c7251f4da7c"
      },
      "execution_count": null,
      "outputs": [
        {
          "output_type": "execute_result",
          "data": {
            "text/plain": [
              "defaultdict(list, {'random': []})"
            ]
          },
          "metadata": {},
          "execution_count": 59
        }
      ]
    },
    {
      "cell_type": "markdown",
      "source": [
        "Забегая вперед, в качестве аргумента `defaultdict` удобно использовать лямбда-функции (анонимные функции):"
      ],
      "metadata": {
        "id": "P57rFBLbymHb"
      }
    },
    {
      "cell_type": "code",
      "source": [
        "dct = defaultdict(set)\n",
        "dct[\"answer\"]"
      ],
      "metadata": {
        "colab": {
          "base_uri": "https://localhost:8080/"
        },
        "id": "i1oEuIKUyyxg",
        "outputId": "6f59dac8-5490-482c-9a02-510dead3ca3e"
      },
      "execution_count": null,
      "outputs": [
        {
          "output_type": "execute_result",
          "data": {
            "text/plain": [
              "set()"
            ]
          },
          "metadata": {},
          "execution_count": 62
        }
      ]
    },
    {
      "cell_type": "markdown",
      "source": [
        "Подробнее мы познакомимся с функциями на одном из следующих занятий."
      ],
      "metadata": {
        "id": "6clQgXsnzA-4"
      }
    },
    {
      "cell_type": "markdown",
      "source": [
        "## OrderedDict"
      ],
      "metadata": {
        "id": "09zHVL_hLdQw"
      }
    },
    {
      "cell_type": "markdown",
      "source": [
        "C версии Python 3.7 сохранение порядка гарантируется и для `dict`, но операция сравнения для обычных диктов всё ещё не учитывает порядок в отличие от `OrderedDict`.\n",
        "\n",
        "Кроме того, у `OrderedDict` есть метод `move_to_end` (подвинуть существующий элемент в конец), которого нет в обычном словаре."
      ],
      "metadata": {
        "id": "Su4ctLDASmBK"
      }
    },
    {
      "cell_type": "code",
      "source": [
        "from collections import OrderedDict\n",
        "\n",
        "data1 = [(1, 'a'), (3, 'c'), (2, 'b')]\n",
        "data2 = [(1, 'a'), (2, 'b'), (3, 'c')]\n",
        "\n",
        "normal_dict1 = dict(data1)\n",
        "ordered_dict1 = OrderedDict(data1)\n",
        "\n",
        "normal_dict2 = dict(data2)\n",
        "ordered_dict2 = OrderedDict(data2)"
      ],
      "metadata": {
        "id": "RiyX8oA5Lh6C"
      },
      "execution_count": null,
      "outputs": []
    },
    {
      "cell_type": "code",
      "source": [
        "normal_dict1"
      ],
      "metadata": {
        "colab": {
          "base_uri": "https://localhost:8080/"
        },
        "id": "l-tCUcfSzdoi",
        "outputId": "23810a40-ffa1-47bc-f5bf-e9c0683942fc"
      },
      "execution_count": null,
      "outputs": [
        {
          "output_type": "execute_result",
          "data": {
            "text/plain": [
              "{1: 'a', 3: 'c', 2: 'b'}"
            ]
          },
          "metadata": {},
          "execution_count": 64
        }
      ]
    },
    {
      "cell_type": "code",
      "source": [
        "normal_dict2"
      ],
      "metadata": {
        "colab": {
          "base_uri": "https://localhost:8080/"
        },
        "id": "W_AaysKBzhFY",
        "outputId": "ea996c92-a553-4979-d8fe-c8bf0b3d1e49"
      },
      "execution_count": null,
      "outputs": [
        {
          "output_type": "execute_result",
          "data": {
            "text/plain": [
              "{1: 'a', 2: 'b', 3: 'c'}"
            ]
          },
          "metadata": {},
          "execution_count": 65
        }
      ]
    },
    {
      "cell_type": "code",
      "source": [
        "normal_dict1 == normal_dict2"
      ],
      "metadata": {
        "colab": {
          "base_uri": "https://localhost:8080/"
        },
        "id": "GJcVlFA3zi62",
        "outputId": "1cac4a73-068b-4cb0-d43c-d0d6ab3d85b5"
      },
      "execution_count": null,
      "outputs": [
        {
          "output_type": "execute_result",
          "data": {
            "text/plain": [
              "True"
            ]
          },
          "metadata": {},
          "execution_count": 66
        }
      ]
    },
    {
      "cell_type": "code",
      "source": [
        "ordered_dict1"
      ],
      "metadata": {
        "colab": {
          "base_uri": "https://localhost:8080/"
        },
        "id": "EqGDy8_QzlkE",
        "outputId": "fe920875-78c0-413b-ce6d-a0c36559cfcc"
      },
      "execution_count": null,
      "outputs": [
        {
          "output_type": "execute_result",
          "data": {
            "text/plain": [
              "OrderedDict([(1, 'a'), (3, 'c'), (2, 'b')])"
            ]
          },
          "metadata": {},
          "execution_count": 67
        }
      ]
    },
    {
      "cell_type": "code",
      "source": [
        "ordered_dict2"
      ],
      "metadata": {
        "colab": {
          "base_uri": "https://localhost:8080/"
        },
        "id": "67o6XIuxzoge",
        "outputId": "0dd924cc-84d9-49bb-dc8b-ab939e1dfac7"
      },
      "execution_count": null,
      "outputs": [
        {
          "output_type": "execute_result",
          "data": {
            "text/plain": [
              "OrderedDict([(1, 'a'), (2, 'b'), (3, 'c')])"
            ]
          },
          "metadata": {},
          "execution_count": 68
        }
      ]
    },
    {
      "cell_type": "code",
      "source": [
        "ordered_dict1 == ordered_dict2"
      ],
      "metadata": {
        "colab": {
          "base_uri": "https://localhost:8080/"
        },
        "id": "81ECZ2ITzptq",
        "outputId": "1d5a07d6-351d-4653-cc49-c0e9fc7ce9f4"
      },
      "execution_count": null,
      "outputs": [
        {
          "output_type": "execute_result",
          "data": {
            "text/plain": [
              "False"
            ]
          },
          "metadata": {},
          "execution_count": 69
        }
      ]
    },
    {
      "cell_type": "code",
      "source": [
        "ordered_dict1.move_to_end(3)\n",
        "ordered_dict1"
      ],
      "metadata": {
        "colab": {
          "base_uri": "https://localhost:8080/"
        },
        "id": "DATADA7B2Y4W",
        "outputId": "44a01bc1-cf2c-403b-e914-96a397a4ab8d"
      },
      "execution_count": null,
      "outputs": [
        {
          "output_type": "execute_result",
          "data": {
            "text/plain": [
              "OrderedDict([(1, 'a'), (2, 'b'), (3, 'c')])"
            ]
          },
          "metadata": {},
          "execution_count": 70
        }
      ]
    },
    {
      "cell_type": "code",
      "source": [
        "ordered_dict1 == ordered_dict2"
      ],
      "metadata": {
        "colab": {
          "base_uri": "https://localhost:8080/"
        },
        "id": "K5j088f62e-T",
        "outputId": "fd1de0a4-f269-4285-d53d-8a0b8644a198"
      },
      "execution_count": null,
      "outputs": [
        {
          "output_type": "execute_result",
          "data": {
            "text/plain": [
              "True"
            ]
          },
          "metadata": {},
          "execution_count": 71
        }
      ]
    },
    {
      "cell_type": "markdown",
      "source": [
        "## deque"
      ],
      "metadata": {
        "id": "XvOarJ_rLn9t"
      }
    },
    {
      "cell_type": "markdown",
      "source": [
        "**deque** - сокращение от double ended queue (двухсторонняя очередь). Модификация списка, которая позволяет быстро добавлять в начало и конец или удалять их. Рассмотрим пример:"
      ],
      "metadata": {
        "id": "f5sLiyu21VdR"
      }
    },
    {
      "cell_type": "code",
      "source": [
        "from collections import deque\n",
        "\n",
        "dq = deque([1, 2, 3, 4, 5, 6])"
      ],
      "metadata": {
        "id": "QbHv4ZgIMDFq"
      },
      "execution_count": null,
      "outputs": []
    },
    {
      "cell_type": "code",
      "source": [
        "dq.append('to_the_end')\n",
        "dq"
      ],
      "metadata": {
        "colab": {
          "base_uri": "https://localhost:8080/"
        },
        "id": "d1N06Poj2G3O",
        "outputId": "5cff288d-fa58-4b2e-9e35-2d53c4be043a"
      },
      "execution_count": null,
      "outputs": [
        {
          "output_type": "execute_result",
          "data": {
            "text/plain": [
              "deque([1, 2, 3, 4, 5, 6, 'to_the_end'])"
            ]
          },
          "metadata": {},
          "execution_count": 23
        }
      ]
    },
    {
      "cell_type": "code",
      "source": [
        "dq.appendleft('to_the_front')\n",
        "dq"
      ],
      "metadata": {
        "colab": {
          "base_uri": "https://localhost:8080/"
        },
        "id": "5f2wYNLM2LV-",
        "outputId": "c89c1902-c48b-44e6-d86c-f84325c6078d"
      },
      "execution_count": null,
      "outputs": [
        {
          "output_type": "execute_result",
          "data": {
            "text/plain": [
              "deque(['to_the_front', 1, 2, 3, 4, 5, 6, 'to_the_end'])"
            ]
          },
          "metadata": {},
          "execution_count": 24
        }
      ]
    },
    {
      "cell_type": "code",
      "source": [
        "result = dq.pop()\n",
        "result, dq"
      ],
      "metadata": {
        "colab": {
          "base_uri": "https://localhost:8080/"
        },
        "id": "iAmBJwRq2Ox4",
        "outputId": "77bf7727-0bfd-4266-fbe4-fde4d7f04ef0"
      },
      "execution_count": null,
      "outputs": [
        {
          "output_type": "execute_result",
          "data": {
            "text/plain": [
              "('to_the_end', deque(['to_the_front', 1, 2, 3, 4, 5, 6]))"
            ]
          },
          "metadata": {},
          "execution_count": 25
        }
      ]
    },
    {
      "cell_type": "code",
      "source": [
        "result = dq.popleft()\n",
        "result, dq"
      ],
      "metadata": {
        "colab": {
          "base_uri": "https://localhost:8080/"
        },
        "id": "uckaCjY_2U5W",
        "outputId": "d6d17ed5-07fd-45eb-b8e3-d872fb94ad6c"
      },
      "execution_count": null,
      "outputs": [
        {
          "output_type": "execute_result",
          "data": {
            "text/plain": [
              "('to_the_front', deque([1, 2, 3, 4, 5, 6]))"
            ]
          },
          "metadata": {},
          "execution_count": 30
        }
      ]
    },
    {
      "cell_type": "code",
      "source": [
        "dq[2]"
      ],
      "metadata": {
        "colab": {
          "base_uri": "https://localhost:8080/"
        },
        "id": "AI8HHJBJO9TW",
        "outputId": "5645e772-b651-4296-c6c5-30f6b95a1738"
      },
      "execution_count": null,
      "outputs": [
        {
          "output_type": "execute_result",
          "data": {
            "text/plain": [
              "3"
            ]
          },
          "metadata": {},
          "execution_count": 74
        }
      ]
    },
    {
      "cell_type": "code",
      "source": [
        "lst = list(dq)\n",
        "lst"
      ],
      "metadata": {
        "colab": {
          "base_uri": "https://localhost:8080/"
        },
        "id": "6hIsBFJpO3w7",
        "outputId": "8df14f3f-1b58-496b-bace-801bd1e1cc5d"
      },
      "execution_count": null,
      "outputs": [
        {
          "output_type": "execute_result",
          "data": {
            "text/plain": [
              "[1, 2, 3, 4, 5, 6]"
            ]
          },
          "metadata": {},
          "execution_count": 73
        }
      ]
    },
    {
      "cell_type": "markdown",
      "source": [
        "# Практика"
      ],
      "metadata": {
        "id": "lOVKUZ8Y-M9X"
      }
    },
    {
      "cell_type": "markdown",
      "metadata": {
        "id": "Pn0BHR1SLIlW"
      },
      "source": [
        "## Задача 1"
      ]
    },
    {
      "cell_type": "markdown",
      "source": [
        "С помощью `list comprehension` создайте матрицу (список, состоящий из списков чисел) размера $N \\times N$, содержащую квадраты чисел по возрастанию, начиная с 0. Сначала заполняется первая кологка, затем вторая и т.д.\n",
        "\n",
        "**Пример ввода:**\n",
        "```python\n",
        "3\n",
        "```\n",
        "\n",
        "**Пример вывода:**\n",
        "```python\n",
        "[[0, 9, 36]\n",
        "[1, 16, 49]\n",
        "[4, 25, 64]]\n",
        "```"
      ],
      "metadata": {
        "id": "OgvEohbsd_kb"
      }
    },
    {
      "cell_type": "code",
      "metadata": {
        "id": "l3V2rBUxLIlW"
      },
      "source": [
        "# ваш код в этой ячейке"
      ],
      "execution_count": null,
      "outputs": []
    },
    {
      "cell_type": "markdown",
      "metadata": {
        "id": "wS1oIF_JLIlW"
      },
      "source": [
        "## Задача 2\n",
        "\n"
      ]
    },
    {
      "cell_type": "markdown",
      "source": [
        "На вход подается список `input_list`, который содержит в себе как элементы базовых типов данных, так и другие списки, содержащие элементы базовых типов данных. Необходимо \"выровнить\" список `input_list` (см. пример) и поместить результат в список `output_list`.\n",
        "\n",
        "**Пример ввода:**\n",
        "```python\n",
        "[0, [1, 2], 4, [1, 0, 3]]\n",
        "```\n",
        "\n",
        "**Пример вывода:**\n",
        "```python\n",
        "[0, 1, 2, 4, 1, 0, 3]\n",
        "```"
      ],
      "metadata": {
        "id": "aO9gx1U3d8yJ"
      }
    },
    {
      "cell_type": "code",
      "metadata": {
        "id": "EIGg_nXqLIlW"
      },
      "source": [
        "# ваш код в этой ячейке"
      ],
      "execution_count": null,
      "outputs": []
    },
    {
      "cell_type": "markdown",
      "metadata": {
        "id": "EAMK_9rYLIlX"
      },
      "source": [
        "## Задача 3"
      ]
    },
    {
      "cell_type": "markdown",
      "source": [
        "На вход подается список кортежей. Для каждого кортежа посчитайте сумму и среднее его элементов. Верните список, состоящий из кортежей `(сумма, среднее)`.\n",
        "\n",
        "**Пример ввода:**\n",
        "```python\n",
        "[(1, 2, 6), (2, 3, -8), (3, 4), (2, 2, 2, 2)]\n",
        "```\n",
        "**Пример вывода:**\n",
        "```python\n",
        "[(9, 3), (-3, -1), (7, 3.5), (8, 2)]\n",
        "```"
      ],
      "metadata": {
        "id": "jxfKuIlSdElx"
      }
    },
    {
      "cell_type": "code",
      "metadata": {
        "id": "5iFmMzuELIlX"
      },
      "source": [
        "list_of_tuples = [(1, 2, 6), (2, 3, -8), (3, 4), (2, 2, 2, 2)]"
      ],
      "execution_count": null,
      "outputs": []
    },
    {
      "cell_type": "code",
      "source": [
        "# ваш код в этой ячейке"
      ],
      "metadata": {
        "id": "7CX0DBebd4zh"
      },
      "execution_count": null,
      "outputs": []
    },
    {
      "cell_type": "markdown",
      "metadata": {
        "id": "ATgzZd6WLIlX"
      },
      "source": [
        "## Задача 4"
      ]
    },
    {
      "cell_type": "markdown",
      "source": [
        "На вход подается список кортежей. У всех кортежей одинаковое количество элементов, элементами всех кортежей являются числа. Верните кортеж с поэлементными суммами.\n",
        "\n",
        "**Пример ввода:**\n",
        "```python\n",
        "[(1, 5), (1, 7), (2, 8)]\n",
        "```\n",
        "**Пример вывода:**\n",
        "```python\n",
        "(4, 20)\n",
        "```"
      ],
      "metadata": {
        "id": "O1HK18-4fk1i"
      }
    },
    {
      "cell_type": "code",
      "metadata": {
        "id": "-Tipld8kLIlX"
      },
      "source": [
        "# ваш код в этой ячейке"
      ],
      "execution_count": null,
      "outputs": []
    },
    {
      "cell_type": "markdown",
      "metadata": {
        "id": "f_owzqn8a-Gb"
      },
      "source": [
        "## Задача 5"
      ]
    },
    {
      "cell_type": "markdown",
      "source": [
        "Программа получает на вход два целых числа - `a` и `b`. Верните произведение всех чисел в диапазоне $(a, b]$, которые содержат в себе цифру `1`."
      ],
      "metadata": {
        "id": "TT_1K1pKMNe7"
      }
    },
    {
      "cell_type": "code",
      "execution_count": null,
      "metadata": {
        "id": "lSOa2vxLktjM"
      },
      "outputs": [],
      "source": [
        "# ваш код в этой ячейке"
      ]
    },
    {
      "cell_type": "markdown",
      "metadata": {
        "id": "tBwMSM7ncGdw"
      },
      "source": [
        "## Задача 6"
      ]
    },
    {
      "cell_type": "markdown",
      "source": [
        "Напишите программу, которая позволяет пользователю вводить числа до тех пор, пока введенное число не окажется кратно 3. Умножьте последнее число на сумму всех предыдущих и поделите на 3, а затем выведите результат."
      ],
      "metadata": {
        "id": "RnycZMukMtiZ"
      }
    },
    {
      "cell_type": "markdown",
      "source": [
        "Пример: \n",
        "- сумма предыдущих чисел - 5\n",
        "- текущее - 21, \n",
        "\n",
        "Вывод:\n",
        "35\n",
        "\n",
        "Примечание: 5*21/3=35"
      ],
      "metadata": {
        "id": "ja-Xt2TpQGCi"
      }
    },
    {
      "cell_type": "code",
      "source": [
        "# ваш код в этой ячейке"
      ],
      "metadata": {
        "id": "K-4o8zHCpp6h"
      },
      "execution_count": null,
      "outputs": []
    },
    {
      "cell_type": "markdown",
      "source": [
        "## Задача 7"
      ],
      "metadata": {
        "id": "TbIt-Vmbs35e"
      }
    },
    {
      "cell_type": "markdown",
      "source": [
        "Напишите программу, которая подсчитает сумму всех чисел из диапазона $(0, 5000]$, кроме числа 2156 (его необходимо пропустить!)."
      ],
      "metadata": {
        "id": "nHL1g0gBQ2P_"
      }
    },
    {
      "cell_type": "code",
      "source": [
        "# ваш код в этой ячейке"
      ],
      "metadata": {
        "id": "dlagEz5UOHnk"
      },
      "execution_count": null,
      "outputs": []
    },
    {
      "cell_type": "markdown",
      "source": [
        "## Задача 8"
      ],
      "metadata": {
        "id": "zNEW6lW9qwSv"
      }
    },
    {
      "cell_type": "markdown",
      "source": [
        "Напишите скрипт, который проверит все числа от 2 до 2000 (включая 2000) на кратность 12. Если число четное, необходимо сложить все цифры, входящие в это число и вывести на экран.\n",
        "\n",
        "Например, число 24 кратно 12, результат будет суммой 2+4, т.е. \"6\"."
      ],
      "metadata": {
        "id": "FIkSwHUyRSr9"
      }
    },
    {
      "cell_type": "code",
      "source": [
        "# ваш код в этой ячейке"
      ],
      "metadata": {
        "id": "qqzjLntpqmGK"
      },
      "execution_count": null,
      "outputs": []
    }
  ]
}